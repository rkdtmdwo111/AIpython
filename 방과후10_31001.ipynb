{
  "nbformat": 4,
  "nbformat_minor": 0,
  "metadata": {
    "colab": {
      "name": "방과후10_31001.ipynb",
      "provenance": [],
      "authorship_tag": "ABX9TyOQUl8whqCoywB+Mj3Vzksg",
      "include_colab_link": true
    },
    "kernelspec": {
      "name": "python3",
      "display_name": "Python 3"
    }
  },
  "cells": [
    {
      "cell_type": "markdown",
      "metadata": {
        "id": "view-in-github",
        "colab_type": "text"
      },
      "source": [
        "<a href=\"https://colab.research.google.com/github/rkdtmdwo111/AIpython/blob/master/%EB%B0%A9%EA%B3%BC%ED%9B%8410_31001.ipynb\" target=\"_parent\"><img src=\"https://colab.research.google.com/assets/colab-badge.svg\" alt=\"Open In Colab\"/></a>"
      ]
    },
    {
      "cell_type": "markdown",
      "metadata": {
        "id": "_8G0_iQqEHdQ",
        "colab_type": "text"
      },
      "source": [
        "# Keras AI"
      ]
    },
    {
      "cell_type": "code",
      "metadata": {
        "id": "ZkBAMDdDBbmo",
        "colab_type": "code",
        "colab": {}
      },
      "source": [
        "print('Hello Github')"
      ],
      "execution_count": 0,
      "outputs": []
    }
  ]
}